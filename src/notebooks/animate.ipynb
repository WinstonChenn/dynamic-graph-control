{
 "cells": [
  {
   "cell_type": "code",
   "execution_count": 15,
   "metadata": {},
   "outputs": [],
   "source": [
    "import sys\n",
    "from argparse import Namespace\n",
    "import networkx as nx\n",
    "import matplotlib.pyplot as plt\n",
    "import numpy as np\n",
    "from matplotlib import animation\n",
    "from IPython.display import HTML\n",
    "%matplotlib inline\n",
    "\n",
    "sys.path.append(\"..\")\n",
    "from generation.sis import DeterministicSIS\n",
    "from utils import viz_utils"
   ]
  },
  {
   "cell_type": "code",
   "execution_count": null,
   "metadata": {},
   "outputs": [],
   "source": [
    "SIS = DeterministicSIS(n=30, p=30, gamma=0.1, d=10, tau=0.3, delta=0.55, \n",
    "    inf_alpha=1, inf_beta=1, sus_alpha=1, sus_beta=1, \n",
    "    rec_alpha=1, rec_beta=1, int_alpha=1, int_beta=1)\n",
    "\n",
    "fig, ax = plt.subplots(1, 1)\n",
    "pos = nx.random_layout(SIS.G)\n",
    "def update_network(i):\n",
    "    res = viz_utils.plot_SIS_graph(SIS, fig=fig, ax=ax, pos=pos)\n",
    "    SIS.update()\n",
    "    SIS.intervene(np.random.choice(SIS.G.nodes, size=round(10*0.1)))\n",
    "    return res\n",
    "\n",
    "def animate(i):\n",
    "    ax.clear()\n",
    "    return update_network(i)\n",
    "\n",
    "fig, ax = plt.subplots()\n",
    "ani = animation.FuncAnimation(fig, animate, frames=100, interval=500, repeat=False)\n",
    "writervideo = animation.FFMpegWriter(fps=1) \n",
    "ani.save('graph.mp4', writer=writervideo, dpi=200) \n",
    "HTML(ani.to_jshtml())"
   ]
  },
  {
   "cell_type": "code",
   "execution_count": null,
   "metadata": {},
   "outputs": [],
   "source": []
  }
 ],
 "metadata": {
  "kernelspec": {
   "display_name": "graph",
   "language": "python",
   "name": "python3"
  },
  "language_info": {
   "codemirror_mode": {
    "name": "ipython",
    "version": 3
   },
   "file_extension": ".py",
   "mimetype": "text/x-python",
   "name": "python",
   "nbconvert_exporter": "python",
   "pygments_lexer": "ipython3",
   "version": "3.12.7"
  }
 },
 "nbformat": 4,
 "nbformat_minor": 2
}
